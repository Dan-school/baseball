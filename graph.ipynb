{
 "cells": [
  {
   "cell_type": "code",
   "execution_count": 1,
   "metadata": {},
   "outputs": [],
   "source": [
    "import pandas as pd\n",
    "import numpy as np\n",
    "import matplotlib.pyplot as plt\n",
    "import pickle\n",
    "from PIL import Image\n",
    "\n",
    "#data from http://www.inalitic.com/datasets/mlb%20pitch%20data.html"
   ]
  },
  {
   "cell_type": "markdown",
   "metadata": {},
   "source": [
    "Code Definitions #\n",
    "\n",
    "While these aren't spelled out anywhere, play descriptions allowed confident identification of these codes\n",
    "\n",
    "B - Ball\n",
    "\n",
    "*B - Ball in dirt\n",
    "\n",
    "S - Swinging Strike\n",
    "\n",
    "C - Called Strike\n",
    "\n",
    "F - Foul\n",
    "\n",
    "T - Foul Tip\n",
    "\n",
    "L - Foul Bunt\n",
    "\n",
    "I - Intentional Ball\n",
    "\n",
    "W - Swinging Strike (Blocked)\n",
    "\n",
    "M - Missed Bunt\n",
    "\n",
    "P - Pitchout\n",
    "\n",
    "Q - Swinging pitchout\n",
    "\n",
    "R - Foul pitchout\n",
    "\n",
    "Values that only occur on last pitch of at-bat:\n",
    "\n",
    "X - In play, out(s)\n",
    "\n",
    "D - In play, no out\n",
    "\n",
    "E - In play, runs\n",
    "\n",
    "H - Hit by pitch"
   ]
  },
  {
   "cell_type": "markdown",
   "metadata": {},
   "source": [
    "we need to look at \n",
    "\n",
    "px: left\\right ball placement over plate, 0 is right down the middle\n",
    "\n",
    "pz: up/down ball placement over plate, 0 is ground\n",
    "\n",
    "sz_bot: bottom of strike zone from ground, in feet\n",
    "\n",
    "sz_top: top of strike zone from ground, in feet\n",
    "\n",
    "zone: PitchFX zone number. Labeled as 1-9 for inside strikezone and 11-14 for outside strikezone. there is no 10\n",
    "\n",
    "type: Simplified pitch outcome codes, S (strike) B (ball) or X (in play)\n",
    "\n",
    "s_count: Count of strikes for current at-bat and pitch sequence.\n",
    "\n",
    "event: \tDescription of at-bat result.\n",
    "\n",
    "umpire_HP: \tName of homeplate umpire for that game."
   ]
  },
  {
   "cell_type": "code",
   "execution_count": 2,
   "metadata": {},
   "outputs": [],
   "source": [
    "# ########### DO NOT RUN\n",
    "# #load pitches.csv\n",
    "# pitches = pd.read_csv('pitches.csv')\n",
    "\n",
    "# #make pandas dataframe \n",
    "# pitch_df = pd.DataFrame(pitches)"
   ]
  },
  {
   "cell_type": "code",
   "execution_count": 3,
   "metadata": {},
   "outputs": [],
   "source": [
    "# pitch_df.head(6)"
   ]
  },
  {
   "cell_type": "code",
   "execution_count": 4,
   "metadata": {},
   "outputs": [],
   "source": [
    "# #list pitch_df columns\n",
    "# # pitch_df.columns\n",
    "# pd.options.display.max_columns = None\n",
    "# pd.options.display.max_rows = None\n",
    "# #get the first 100 rows of 'code'\n",
    "# pitch_df['code'].head(100)"
   ]
  },
  {
   "cell_type": "code",
   "execution_count": 5,
   "metadata": {},
   "outputs": [],
   "source": [
    "#remove unnecessary columns 'start_speed', 'end_speed', 'spin_rate', 'spin_dir','break_angle', 'break_length', 'break_y', 'ax', 'ay', 'az','type_confidence', 'vx0', 'vy0', 'vz0', 'x', 'x0', 'y', 'y0','z0', 'pfx_x', 'pfx_z', 'nasty','event_num', 'b_score', 'ab_id',outs','pitch_num', 'on_1b', 'on_2b', 'on_3b' \n",
    "# pitch_df = pitch_df.drop(['start_speed', 'end_speed', 'spin_rate', 'spin_dir','break_angle', 'break_length', 'break_y', 'ax', 'ay', 'az','type_confidence', 'vx0', 'vy0', 'vz0', 'x', 'x0', 'y', 'y0','z0', 'pfx_x', 'pfx_z', 'nasty','event_num', 'b_score', 'ab_id', 'outs','pitch_num', 'on_1b', 'on_2b', 'on_3b'], axis=1)\n"
   ]
  },
  {
   "cell_type": "code",
   "execution_count": 6,
   "metadata": {},
   "outputs": [],
   "source": [
    "#get head of dataframe\n",
    "# pitch_df.head()"
   ]
  },
  {
   "cell_type": "code",
   "execution_count": 7,
   "metadata": {},
   "outputs": [],
   "source": [
    "#save as pickle\n",
    "# pitch_df.to_pickle('pitch_df_sorted.pkl')"
   ]
  },
  {
   "cell_type": "code",
   "execution_count": 8,
   "metadata": {},
   "outputs": [],
   "source": [
    "#load pickle\n",
    "pitch_df = pd.read_pickle('pitch_df_sorted.pkl')"
   ]
  },
  {
   "cell_type": "code",
   "execution_count": 9,
   "metadata": {},
   "outputs": [
    {
     "data": {
      "text/html": [
       "<div>\n",
       "<style scoped>\n",
       "    .dataframe tbody tr th:only-of-type {\n",
       "        vertical-align: middle;\n",
       "    }\n",
       "\n",
       "    .dataframe tbody tr th {\n",
       "        vertical-align: top;\n",
       "    }\n",
       "\n",
       "    .dataframe thead th {\n",
       "        text-align: right;\n",
       "    }\n",
       "</style>\n",
       "<table border=\"1\" class=\"dataframe\">\n",
       "  <thead>\n",
       "    <tr style=\"text-align: right;\">\n",
       "      <th></th>\n",
       "      <th>px</th>\n",
       "      <th>pz</th>\n",
       "      <th>sz_bot</th>\n",
       "      <th>sz_top</th>\n",
       "      <th>zone</th>\n",
       "      <th>code</th>\n",
       "      <th>type</th>\n",
       "      <th>pitch_type</th>\n",
       "      <th>b_count</th>\n",
       "      <th>s_count</th>\n",
       "    </tr>\n",
       "  </thead>\n",
       "  <tbody>\n",
       "    <tr>\n",
       "      <th>0</th>\n",
       "      <td>0.416</td>\n",
       "      <td>2.963</td>\n",
       "      <td>1.72</td>\n",
       "      <td>3.56</td>\n",
       "      <td>3.0</td>\n",
       "      <td>C</td>\n",
       "      <td>S</td>\n",
       "      <td>FF</td>\n",
       "      <td>0.0</td>\n",
       "      <td>0.0</td>\n",
       "    </tr>\n",
       "    <tr>\n",
       "      <th>1</th>\n",
       "      <td>-0.191</td>\n",
       "      <td>2.347</td>\n",
       "      <td>1.72</td>\n",
       "      <td>3.56</td>\n",
       "      <td>5.0</td>\n",
       "      <td>S</td>\n",
       "      <td>S</td>\n",
       "      <td>FF</td>\n",
       "      <td>0.0</td>\n",
       "      <td>1.0</td>\n",
       "    </tr>\n",
       "    <tr>\n",
       "      <th>2</th>\n",
       "      <td>-0.518</td>\n",
       "      <td>3.284</td>\n",
       "      <td>1.72</td>\n",
       "      <td>3.56</td>\n",
       "      <td>1.0</td>\n",
       "      <td>F</td>\n",
       "      <td>S</td>\n",
       "      <td>FF</td>\n",
       "      <td>0.0</td>\n",
       "      <td>2.0</td>\n",
       "    </tr>\n",
       "    <tr>\n",
       "      <th>3</th>\n",
       "      <td>-0.641</td>\n",
       "      <td>1.221</td>\n",
       "      <td>1.74</td>\n",
       "      <td>3.35</td>\n",
       "      <td>13.0</td>\n",
       "      <td>B</td>\n",
       "      <td>B</td>\n",
       "      <td>FF</td>\n",
       "      <td>0.0</td>\n",
       "      <td>2.0</td>\n",
       "    </tr>\n",
       "    <tr>\n",
       "      <th>4</th>\n",
       "      <td>-1.821</td>\n",
       "      <td>2.083</td>\n",
       "      <td>1.72</td>\n",
       "      <td>3.56</td>\n",
       "      <td>13.0</td>\n",
       "      <td>B</td>\n",
       "      <td>B</td>\n",
       "      <td>CU</td>\n",
       "      <td>1.0</td>\n",
       "      <td>2.0</td>\n",
       "    </tr>\n",
       "  </tbody>\n",
       "</table>\n",
       "</div>"
      ],
      "text/plain": [
       "      px     pz  sz_bot  sz_top  zone code type pitch_type  b_count  s_count\n",
       "0  0.416  2.963    1.72    3.56   3.0    C    S         FF      0.0      0.0\n",
       "1 -0.191  2.347    1.72    3.56   5.0    S    S         FF      0.0      1.0\n",
       "2 -0.518  3.284    1.72    3.56   1.0    F    S         FF      0.0      2.0\n",
       "3 -0.641  1.221    1.74    3.35  13.0    B    B         FF      0.0      2.0\n",
       "4 -1.821  2.083    1.72    3.56  13.0    B    B         CU      1.0      2.0"
      ]
     },
     "execution_count": 9,
     "metadata": {},
     "output_type": "execute_result"
    }
   ],
   "source": [
    "pitch_df.head()"
   ]
  },
  {
   "cell_type": "code",
   "execution_count": 10,
   "metadata": {},
   "outputs": [
    {
     "data": {
      "text/plain": [
       "Index(['px', 'pz', 'sz_bot', 'sz_top', 'zone', 'code', 'type', 'pitch_type',\n",
       "       'b_count', 's_count'],\n",
       "      dtype='object')"
      ]
     },
     "execution_count": 10,
     "metadata": {},
     "output_type": "execute_result"
    }
   ],
   "source": [
    "#list columns\n",
    "pitch_df.columns"
   ]
  },
  {
   "cell_type": "code",
   "execution_count": 11,
   "metadata": {},
   "outputs": [
    {
     "data": {
      "text/html": [
       "<div>\n",
       "<style scoped>\n",
       "    .dataframe tbody tr th:only-of-type {\n",
       "        vertical-align: middle;\n",
       "    }\n",
       "\n",
       "    .dataframe tbody tr th {\n",
       "        vertical-align: top;\n",
       "    }\n",
       "\n",
       "    .dataframe thead th {\n",
       "        text-align: right;\n",
       "    }\n",
       "</style>\n",
       "<table border=\"1\" class=\"dataframe\">\n",
       "  <thead>\n",
       "    <tr style=\"text-align: right;\">\n",
       "      <th></th>\n",
       "      <th>px</th>\n",
       "      <th>pz</th>\n",
       "      <th>sz_bot</th>\n",
       "      <th>sz_top</th>\n",
       "      <th>zone</th>\n",
       "      <th>code</th>\n",
       "      <th>type</th>\n",
       "      <th>pitch_type</th>\n",
       "      <th>b_count</th>\n",
       "      <th>s_count</th>\n",
       "    </tr>\n",
       "  </thead>\n",
       "  <tbody>\n",
       "    <tr>\n",
       "      <th>3</th>\n",
       "      <td>-0.641</td>\n",
       "      <td>1.221</td>\n",
       "      <td>1.74</td>\n",
       "      <td>3.35</td>\n",
       "      <td>13.0</td>\n",
       "      <td>B</td>\n",
       "      <td>B</td>\n",
       "      <td>FF</td>\n",
       "      <td>0.0</td>\n",
       "      <td>2.0</td>\n",
       "    </tr>\n",
       "    <tr>\n",
       "      <th>4</th>\n",
       "      <td>-1.821</td>\n",
       "      <td>2.083</td>\n",
       "      <td>1.72</td>\n",
       "      <td>3.56</td>\n",
       "      <td>13.0</td>\n",
       "      <td>B</td>\n",
       "      <td>B</td>\n",
       "      <td>CU</td>\n",
       "      <td>1.0</td>\n",
       "      <td>2.0</td>\n",
       "    </tr>\n",
       "    <tr>\n",
       "      <th>6</th>\n",
       "      <td>-1.088</td>\n",
       "      <td>1.610</td>\n",
       "      <td>1.59</td>\n",
       "      <td>3.45</td>\n",
       "      <td>13.0</td>\n",
       "      <td>B</td>\n",
       "      <td>B</td>\n",
       "      <td>FF</td>\n",
       "      <td>0.0</td>\n",
       "      <td>0.0</td>\n",
       "    </tr>\n",
       "    <tr>\n",
       "      <th>8</th>\n",
       "      <td>1.470</td>\n",
       "      <td>2.350</td>\n",
       "      <td>1.89</td>\n",
       "      <td>3.46</td>\n",
       "      <td>14.0</td>\n",
       "      <td>B</td>\n",
       "      <td>B</td>\n",
       "      <td>FF</td>\n",
       "      <td>0.0</td>\n",
       "      <td>0.0</td>\n",
       "    </tr>\n",
       "    <tr>\n",
       "      <th>9</th>\n",
       "      <td>-1.337</td>\n",
       "      <td>1.898</td>\n",
       "      <td>1.81</td>\n",
       "      <td>3.52</td>\n",
       "      <td>13.0</td>\n",
       "      <td>B</td>\n",
       "      <td>B</td>\n",
       "      <td>FF</td>\n",
       "      <td>1.0</td>\n",
       "      <td>0.0</td>\n",
       "    </tr>\n",
       "  </tbody>\n",
       "</table>\n",
       "</div>"
      ],
      "text/plain": [
       "      px     pz  sz_bot  sz_top  zone code type pitch_type  b_count  s_count\n",
       "3 -0.641  1.221    1.74    3.35  13.0    B    B         FF      0.0      2.0\n",
       "4 -1.821  2.083    1.72    3.56  13.0    B    B         CU      1.0      2.0\n",
       "6 -1.088  1.610    1.59    3.45  13.0    B    B         FF      0.0      0.0\n",
       "8  1.470  2.350    1.89    3.46  14.0    B    B         FF      0.0      0.0\n",
       "9 -1.337  1.898    1.81    3.52  13.0    B    B         FF      1.0      0.0"
      ]
     },
     "execution_count": 11,
     "metadata": {},
     "output_type": "execute_result"
    }
   ],
   "source": [
    "strikes_df = pitch_df[pitch_df['code'] == 'C']\n",
    "#get b code \n",
    "balls_df = pitch_df[pitch_df['code'] == 'B']\n",
    "balls_df.head()"
   ]
  },
  {
   "cell_type": "code",
   "execution_count": 12,
   "metadata": {},
   "outputs": [
    {
     "data": {
      "text/plain": [
       "0.7083333333333334"
      ]
     },
     "execution_count": 12,
     "metadata": {},
     "output_type": "execute_result"
    }
   ],
   "source": [
    "#strike zone width is 17 inches\n",
    "sz_width = 17/2/12\n",
    "sz_width"
   ]
  },
  {
   "cell_type": "code",
   "execution_count": 13,
   "metadata": {},
   "outputs": [],
   "source": [
    "def get_false_strikes(strikes_df):\n",
    "\n",
    "#make new df with same columns as pitch_df\n",
    "    false_strikes_df = pd.DataFrame(columns=strikes_df.columns)\n",
    "    true_strikes_df = pd.DataFrame(columns=strikes_df.columns)\n",
    "#make list\n",
    "    f_strikes_list = []\n",
    "    t_strikes_list = []\n",
    "    count = 0\n",
    "    #iterate through each row of called strikes\n",
    "    for index, row in strikes_df.iterrows():\n",
    "        #get strike zone top and bottom\n",
    "        sz_top = row['sz_top']\n",
    "        sz_bot = row['sz_bot']\n",
    "\n",
    "        #get half the strike zone height\n",
    "        sz_height = (sz_top - sz_bot)\n",
    "\n",
    "        sz_left = 0 - sz_width\n",
    "        #get sz_right\n",
    "        sz_right = 0 + sz_width\n",
    "        #get x and y coordinates\n",
    "        x = row['px']\n",
    "        y = row['pz']\n",
    "        #false strikes\n",
    "        if x < sz_left or x > sz_right or y > sz_top or y < sz_bot:\n",
    "            #shift strickzone vertical center to y = 0\n",
    "            row['pz'] = row['pz'] - ((sz_height/2) + sz_bot)\n",
    "            f_strikes_list.append(row)\n",
    "        else:\n",
    "            row['pz'] = row['pz'] - ((sz_height/2) + sz_bot)\n",
    "            t_strikes_list.append(row)\n",
    "        \n",
    "        # print(strikes_list)\n",
    "# count\n",
    "    strikes_flase_df = pd.DataFrame(f_strikes_list)\n",
    "    strikes_true_df = pd.DataFrame(t_strikes_list)\n",
    "    return [strikes_flase_df, strikes_true_df]"
   ]
  },
  {
   "cell_type": "code",
   "execution_count": 14,
   "metadata": {},
   "outputs": [],
   "source": [
    "def get_false_balls(balls_df_m):\n",
    "    # print(balls_df_m.head())\n",
    "#make new df with same columns as pitch_df\n",
    "    false_balls_df = pd.DataFrame(columns=balls_df_m.columns)\n",
    "    true_balls_df = pd.DataFrame(columns=balls_df_m.columns)\n",
    "#make list\n",
    "    false_balls_list = []\n",
    "    true_balls_list = []\n",
    "    count = 0\n",
    "    #iterate through each row of called strikes\n",
    "    for index, row in balls_df_m.iterrows():\n",
    "        #get strike zone top and bottom\n",
    "        sz_top = row['sz_top']\n",
    "        sz_bot = row['sz_bot']\n",
    "\n",
    "        sz_height = (sz_top - sz_bot)\n",
    "\n",
    "        sz_left = 0 - sz_width\n",
    "        #get sz_right\n",
    "        sz_right = 0 + sz_width\n",
    "        #get x and y coordinates\n",
    "        x = row['px']\n",
    "        y = row['pz']\n",
    "\n",
    "        if x < sz_left or x > sz_right or y > sz_top or y < sz_bot:\n",
    "            row['pz'] = row['pz'] - ((sz_height/2) + sz_bot)\n",
    "            true_balls_list.append(row)\n",
    "        else:\n",
    "            row['pz'] = row['pz'] - ((sz_height/2) + sz_bot)\n",
    "            false_balls_list.append(row)\n",
    "        # print(strikes_list)\n",
    "# count\n",
    "\n",
    "    false_balls_df = pd.DataFrame(false_balls_list)\n",
    "    true_balls_df = pd.DataFrame(true_balls_list)\n",
    "    return false_balls_df, true_balls_df"
   ]
  },
  {
   "cell_type": "code",
   "execution_count": 15,
   "metadata": {},
   "outputs": [],
   "source": [
    "false_strikes_df, true_strikes_df = get_false_strikes(strikes_df)\n"
   ]
  },
  {
   "cell_type": "code",
   "execution_count": 16,
   "metadata": {},
   "outputs": [],
   "source": [
    "# true_strikes_df.head(100)"
   ]
  },
  {
   "cell_type": "code",
   "execution_count": 27,
   "metadata": {},
   "outputs": [
    {
     "data": {
      "image/png": "[encoded data removed]",
      "text/plain": [
       "<Figure size 432x288 with 1 Axes>"
      ]
     },
     "metadata": {
      "needs_background": "light"
     },
     "output_type": "display_data"
    },
    {
     "data": {
      "text/plain": [
       "<Figure size 720x720 with 0 Axes>"
      ]
     },
     "metadata": {},
     "output_type": "display_data"
    }
   ],
   "source": [
    "#plot false strikes in red and true strikes in blue only use 10% of the rows\n",
    "false_strikes_df_sample = false_strikes_df.sample(frac=0.01)\n",
    "true_strikes_df_sample = true_strikes_df.sample(frac=0.01)\n",
    "plt.scatter(false_strikes_df_sample['px'], false_strikes_df_sample['pz'], color='red', label='False Strikes', s= 2)\n",
    "plt.scatter(true_strikes_df_sample['px'], true_strikes_df_sample['pz'], color='blue', label='True Strikes', s= 2)\n",
    "plt.xlabel('feet')\n",
    "plt.ylabel('feet')\n",
    "plt.title('False Strikes vs True Strikes')\n",
    "plt.legend()\n",
    "plt.show()\n",
    "# save as png using pil"
   ]
  },
  {
   "cell_type": "code",
   "execution_count": 18,
   "metadata": {},
   "outputs": [
    {
     "data": {
      "image/png": "[encoded data removed]",
      "text/plain": [
       "<Figure size 432x288 with 1 Axes>"
      ]
     },
     "metadata": {},
     "output_type": "display_data"
    },
    {
     "data": {
      "text/plain": [
       "<Figure size 432x288 with 0 Axes>"
      ]
     },
     "metadata": {},
     "output_type": "display_data"
    }
   ],
   "source": [
    "#make pie chart of false strikes red and true strikes blue\n",
    "plt.pie([len(false_strikes_df), len(true_strikes_df)], labels=['False Strikes', 'True Strikes'], colors=['red', 'blue'], autopct='%1.1f%%')\n",
    "plt.title('Percentage of False Strikes and True Strikes Between 2015 and 2018')\n",
    "plt.show()\n",
    "plt.savefig('false_strikes_pie_chart.png')"
   ]
  },
  {
   "cell_type": "code",
   "execution_count": 19,
   "metadata": {},
   "outputs": [],
   "source": [
    "false_balls_df, true_balls_df = get_false_balls(balls_df)"
   ]
  },
  {
   "cell_type": "code",
   "execution_count": 20,
   "metadata": {},
   "outputs": [
    {
     "data": {
      "image/png": "[encoded data removed]",
      "text/plain": [
       "<Figure size 432x288 with 1 Axes>"
      ]
     },
     "metadata": {
      "needs_background": "light"
     },
     "output_type": "display_data"
    },
    {
     "data": {
      "text/plain": [
       "<Figure size 432x288 with 0 Axes>"
      ]
     },
     "metadata": {},
     "output_type": "display_data"
    }
   ],
   "source": [
    "false_balls_df_sample = false_balls_df.sample(frac=0.01)\n",
    "true_balls_df_sample = true_balls_df.sample(frac=0.01)\n",
    "plt.scatter(false_balls_df_sample['px'], false_balls_df_sample['pz'], color='red', label='False Balls', s= 2)\n",
    "plt.scatter(true_balls_df_sample['px'], true_balls_df_sample['pz'], color='blue', label='True Balls', s= 2)\n",
    "plt.xlabel('Feet')\n",
    "plt.ylabel('Feet')\n",
    "plt.title('False Balls vs True Balls')\n",
    "plt.legend()\n",
    "plt.show()\n",
    "plt.savefig('false_balls_1%_of_pitches.png')"
   ]
  },
  {
   "cell_type": "code",
   "execution_count": 21,
   "metadata": {},
   "outputs": [
    {
     "data": {
      "image/png": "[encoded data removed]",
      "text/plain": [
       "<Figure size 432x288 with 1 Axes>"
      ]
     },
     "metadata": {},
     "output_type": "display_data"
    },
    {
     "data": {
      "text/plain": [
       "<Figure size 432x288 with 0 Axes>"
      ]
     },
     "metadata": {},
     "output_type": "display_data"
    }
   ],
   "source": [
    "plt.pie([len(false_balls_df), len(true_balls_df)], labels=['False Balls', 'True Balls'], colors=['red', 'blue'], autopct='%1.1f%%')\n",
    "plt.title('Percentage of False Balls and True Balls Between 2015 and 2018')\n",
    "plt.show()\n",
    "plt.savefig('false_balls_pie_chart.png')"
   ]
  }
 ],
 "metadata": {
  "interpreter": {
   "hash": "916dbcbb3f70747c44a77c7bcd40155683ae19c65e1c03b4aa3499c5328201f1"
  },
  "kernelspec": {
   "display_name": "Python 3.8.10 64-bit",
   "language": "python",
   "name": "python3"
  },
  "language_info": {
   "codemirror_mode": {
    "name": "ipython",
    "version": 3
   },
   "file_extension": ".py",
   "mimetype": "text/x-python",
   "name": "python",
   "nbconvert_exporter": "python",
   "pygments_lexer": "ipython3",
   "version": "3.8.10"
  },
  "orig_nbformat": 4
 },
 "nbformat": 4,
 "nbformat_minor": 2
}
